{
 "cells": [
  {
   "cell_type": "markdown",
   "metadata": {},
   "source": [
    "# Python Lesson - Day 1 & 3\n",
    "\n",
    "## Introduction\n",
    "#### What is a programming language? Levels (high, low, scripting languages)\n",
    "A programming language is a computer language which the computers understand and it comprises of 0's and 1's.\n",
    "\n",
    "#### What is Python? Why Python?\n",
    "Python is an open source programming language used for standalone programs and scripting applications.\n",
    "\n",
    "Python is easy to learn, free and has a great global community.\n",
    "\n",
    "#### Who uses Python? Where can Python be used?\n",
    "\n",
    "Some of the reasons why Python is the language of choise is because of the quality of the software. Python is more attractive because of its focus on redability, coherence and software quality in general.\n",
    "\n",
    "PYthon also uses less code than the other languages and hence there is less to type, less to debug and less to maintain. The speed at which Python runs also makes developer time less because Python programs run immediately, they don't require other lengthy steps.\n",
    "\n",
    "Some downsides to using Python would be that the execution time may not be as fast as that of compiled languages such as C and C++.\n",
    "#### The Python interpreter. Practice interactive commands and files\n",
    "\n",
    "An **interpreter** is a program that reads and carries out instructions in your program."
   ]
  },
  {
   "cell_type": "code",
   "execution_count": null,
   "metadata": {},
   "outputs": [],
   "source": [
    "print(\"Hello world!\")\n",
    "print(2100)"
   ]
  },
  {
   "cell_type": "markdown",
   "metadata": {},
   "source": [
    "#### Anaconda: how to use it and practice commands\n",
    "1. Open Anaconda.\n",
    "1. Open and rename a Python shell.\n",
    "1. Show shell commands. \n",
    "1. Run Python commands."
   ]
  },
  {
   "cell_type": "code",
   "execution_count": null,
   "metadata": {},
   "outputs": [],
   "source": [
    "print(\"Hello world!\")\n",
    "print(2**100)"
   ]
  },
  {
   "cell_type": "markdown",
   "metadata": {},
   "source": [
    "#### Arithmetic, your first hello world, Zen of Python, anti-gravity\n",
    "\n",
    "Expression operators\n",
    "\n",
    "+, -, *, /, >>, **, &, etc.\n",
    "\n",
    "#### Data types\n",
    "- int\n",
    "- float\n",
    "- string\n",
    "- bool\n",
    "\n",
    "\n",
    "#### The print statement and variables\n"
   ]
  },
  {
   "cell_type": "code",
   "execution_count": 1,
   "metadata": {},
   "outputs": [],
   "source": [
    "#Example 1\n",
    "\n",
    "a = 3 # It's an integer\n",
    "b = 'spam' # Now it's a string\n",
    "c = 1.23 # Now it's a floating point"
   ]
  },
  {
   "cell_type": "code",
   "execution_count": null,
   "metadata": {},
   "outputs": [],
   "source": [
    "#Example 2\n",
    "\n",
    "message = \"Hello world!\"\n",
    "\n",
    "print(message)\n",
    "\n",
    "number = 2**100\n",
    "\n",
    "print(number)\n",
    "\n",
    "x = 'Spam!'\n",
    "print(x * 8)\n",
    "\n",
    "a = 'dead'      # Define three attributes\n",
    "\n",
    "b = 'parrot'    # Exported to other files\n",
    "\n",
    "c = 'sketch'\n",
    "\n",
    "print(a, b, c)  # Also used in this file"
   ]
  },
  {
   "cell_type": "code",
   "execution_count": null,
   "metadata": {},
   "outputs": [],
   "source": [
    "#Different ways to do assignments\n",
    "\n",
    "spam = 'Spam'                    #Basic form\n",
    "spam, ham = 'yum', 'YUM'         #Tuple assignment (positional)\n",
    "[spam, ham] = ['yum', 'YUM']     #List assignment (positional)\n",
    "a, b, c, d = 'spam'              #Sequence assignment, generalized\n",
    "a, *b = 'spam'                   #Extended sequence unpacking (Python 3.0)\n",
    "spam = ham = 'lunch'             #Multiple-target assignment\n",
    "spams += 42                      #Augmented assignment (equivalent to spams = spams + 42)\n",
    "\n",
    "#Shared reference\n",
    "a = 3\n",
    "b = a\n",
    "a = a + 2\n",
    "\n",
    "L1 = [2, 3, 4] # A mutable object\n",
    "L2 = L1 # Make a reference to the same object\n",
    "L1[0] = 24 # An in-place change\n",
    "L1 # L1 is different\n",
    "[24, 3, 4]\n",
    "L2 # But so is L2!\n",
    "[24, 3, 4]"
   ]
  },
  {
   "cell_type": "markdown",
   "metadata": {},
   "source": [
    "### Variable Name Rules\n",
    "Rules:\n",
    "- Syntax: (underscore or letter) + (any number of letters, digits, or underscores). E.g. _spam, spam, and Spam_1 are (1_Spam, spam$, and @#! are not allowed).\n",
    "- Case matters: SPAM is not the same as spam.\n",
    "- Reserved words are off-limits (class, but klass and Class work fine). Table 11-3 lists the words\n",
    "\n",
    "Reserved words (False, class, finally, is, return, None, continue, for, lambda, try, True, def, from, nonlocal, while, and, del, global, not, with, as, elif, if, or, yield, assert, else, import, pass, break, except, in, raise).\n",
    "\n",
    "#### Numbers in action (int, float)"
   ]
  },
  {
   "cell_type": "code",
   "execution_count": null,
   "metadata": {},
   "outputs": [],
   "source": [
    "a = 3 # Name created\n",
    "b = 4\n",
    "a + 1, a – 1 # Addition (3 + 1), subtraction (3 - 1)\n",
    "(4, 2)\n",
    "\n",
    "b * 3, b / 2 # Multiplication (4 * 3), division (4 / 2)\n",
    "(12, 2.0)\n",
    "\n",
    "a % 2, b ** 2 # Modulus (remainder), power (4 ** 2)\n",
    "(1, 16)\n",
    "\n",
    "2 + 4.0, 2.0 ** b # Mixed-type conversions\n",
    "(6.0, 16.0)\n",
    "\n",
    "b / 2 + a # Same as ((4 / 2) + 3)\n",
    "5.0\n",
    "print(b / (2.0 + a)) # Same as (4 / (2.0 + 3))\n",
    "0.8"
   ]
  },
  {
   "cell_type": "markdown",
   "metadata": {},
   "source": [
    "#### Boolean"
   ]
  },
  {
   "cell_type": "code",
   "execution_count": null,
   "metadata": {},
   "outputs": [],
   "source": [
    "1 < 2 # Less than\n",
    "True\n",
    "2.0 >= 1 # Greater than or equal: mixed-type 1 converted to 1.0\n",
    "True\n",
    "2.0 == 2.0 # Equal value\n",
    "True\n",
    "2.0 != 2.0 # Not equal value\n",
    "False\n",
    "\n",
    "X = 2\n",
    "Y = 4\n",
    "Z = 6\n",
    "X < Y < Z # Chained comparisons: range tests\n",
    "True\n",
    "X < Y and Y < Z\n",
    "True\n",
    "X < Y > Z\n",
    "False\n",
    "X < Y and Y > Z\n",
    "False\n",
    "1 < 2 < 3.0 < 4\n",
    "True\n",
    "1 > 2 > 3.0 > 4\n",
    "False\n",
    "\n",
    "\n",
    "10 / 4 # Differs in 3.0: keeps remainder\n",
    "2.5\n",
    "10 // 4 # Same in 3.0: truncates remainder\n",
    "2\n",
    "10 / 4.0 # Same in 3.0: keeps remainder\n",
    "2.5\n",
    "10 // 4.0 # Same in 3.0: truncates to floor\n",
    "2.0\n",
    "\n",
    "type(True)\n",
    "<class 'bool'>\n",
    "True == 1 # Same value\n",
    "False == 0\n",
    "True\n",
    "True + 4 # (Hmmm)"
   ]
  },
  {
   "cell_type": "markdown",
   "metadata": {},
   "source": [
    "**Assignment:**\n",
    "\n",
    "Write a program that takes a name and a course that a student is doing at college. Your program should then display a message that tells the name and course of the student. e.g My name is John and I'm studying Computer Science."
   ]
  },
  {
   "cell_type": "markdown",
   "metadata": {},
   "source": [
    "**Assignment:**\n",
    "    \n",
    "Imagine that you have a tuckshop at Python Week of Code. Write a program that lists any 5 items that you sell and their prices.\n",
    "e.g Apple is $3.00"
   ]
  },
  {
   "cell_type": "markdown",
   "metadata": {},
   "source": [
    "#### Strings"
   ]
  },
  {
   "cell_type": "code",
   "execution_count": null,
   "metadata": {},
   "outputs": [],
   "source": [
    "# Slicing\n",
    "S = 'Spam'\n",
    "len(S) # Length\n",
    "4\n",
    "S[0] # The first item in S, indexing by zero-based position\n",
    "'S'\n",
    "S[1]\n",
    "\n",
    "\n",
    "S[-1] # The last item from the end in S\n",
    "'m'\n",
    "S[-2] # The second to last item from the end\n",
    "'a'\n",
    "\n",
    "S[1:] # Everything past the first (1:len(S))\n",
    "'pam'\n",
    "S # S itself hasn't changed\n",
    "'Spam'\n",
    "S[0:3] # Everything but the last\n",
    "'Spa'\n",
    "S[:3] # Same as S[0:3]\n",
    "'Spa'\n",
    "S[:-1] # Everything but the last again, but simpler (0:-1)\n",
    "'Spa'\n",
    "S[:]"
   ]
  },
  {
   "cell_type": "markdown",
   "metadata": {},
   "source": [
    "####  String Methods\n",
    "- S.capitalize() \n",
    "- S.ljust(width [, fill])\n",
    "- S.center(width [, fill]) \n",
    "- S.lower()\n",
    "- S.count(sub [, start [, end]]) \n",
    "- S.lstrip([chars])\n",
    "- S.encode([encoding [,errors]]) \n",
    "- S.maketrans(x[, y[, z]])\n",
    "- S.endswith(suffix [, start [, end]]) \n",
    "- S.partition(sep)\n",
    "- S.expandtabs([tabsize]) \n",
    "- S.replace(old, new [, count])\n",
    "- S.find(sub [, start [, end]]) \n",
    "- S.rfind(sub [,start [,end]])\n",
    "- S.format(fmtstr, *args, **kwargs) \n",
    "- S.rindex(sub [, start [, end]])\n",
    "- S.index(sub [, start [, end]]) \n",
    "- S.rjust(width [, fill])\n",
    "- S.isalnum()  \n",
    "- S.rpartition(sep)\n",
    "- S.isalpha() \n",
    "- S.rsplit([sep[, maxsplit]])\n",
    "- S.isdecimal() \n",
    "- S.rstrip([chars])\n",
    "- S.isdigit()\n",
    "- S.isidentifier() \n",
    "- S.splitlines([keepends])\n",
    "- S.islower() \n",
    "- S.startswith(prefix [, start [, end]])\n",
    "- S.isnumeric() \n",
    "- S.strip([chars])\n",
    "- S.isprintable() \n",
    "- S.swapcase()\n",
    "- S.isspace() \n",
    "- S.title()\n",
    "- S.istitle() \n",
    "- S.translate(map)\n",
    "- S.isupper() \n",
    "- S.upper()\n",
    "- S.join(iterable) \n",
    "- S.zfill(width)\n"
   ]
  },
  {
   "cell_type": "markdown",
   "metadata": {},
   "source": [
    "## Data structures\n",
    " \n",
    "#### Lists \n",
    "Lists are Python objects that contain an ordered collection of Python object types. \n",
    "\n",
    "- They have no fixed size.\n",
    "- They are mutable.\n",
    "- They are ordered by indexes that start at 0."
   ]
  },
  {
   "cell_type": "code",
   "execution_count": null,
   "metadata": {},
   "outputs": [],
   "source": [
    "# Ways to create a list\n",
    "L = [] An empty list\n",
    "L = [0, 1, 2, 3] Four items: indexes 0..3\n",
    "L = ['abc', ['def', 'ghi']] Nested sublists\n",
    "L = list('spam')\n",
    "L = list(range(-4, 4))\n",
    "\n",
    "\n",
    "L = [123, 'spam', 1.23] # A list of three different-type objects\n",
    "len(L)\n",
    "\n",
    "L[0] # Indexing by position\n",
    "123\n",
    "L[:-1] # Slicing a list returns a new list\n",
    "[123, 'spam']\n",
    "L + [4, 5, 6] # Concatenation makes a new list too\n",
    "[123, 'spam', 1.23, 4, 5, 6]\n",
    "L # We're not changing the original list\n",
    "[123, 'spam', 1.23]\n",
    "\n",
    "\n",
    "L.append('NI') # Growing: add object at end of list\n",
    "L\n",
    "[123, 'spam', 1.23, 'NI']\n",
    "L.pop(2) # Shrinking: delete an item in the middle\n",
    "1.23\n",
    "L # \"del L[2]\" deletes from a list too\n",
    "[123, 'spam', 'NI']\n",
    "\n",
    "M = ['bb', 'aa', 'cc']\n",
    "M.sort()\n",
    "M\n",
    "['aa', 'bb', 'cc']\n",
    "M.reverse()\n",
    "M\n",
    "['cc', 'bb', 'aa']\n",
    "\n",
    "#Nesting\n",
    "M = [[1, 2, 3], # A 3 × 3 matrix, as nested lists\n",
    "[4, 5, 6], # Code can span lines if bracketed\n",
    "[7, 8, 9]]\n",
    "M\n",
    "[[1, 2, 3], [4, 5, 6], [7, 8, 9]]\n",
    "\n",
    "M[1] # Get row 2\n",
    "[4, 5, 6]\n",
    "M[1][2] # Get row 2, then get item 3 within the row\n",
    "6"
   ]
  },
  {
   "cell_type": "code",
   "execution_count": 7,
   "metadata": {},
   "outputs": [],
   "source": [
    "M = ['bb', 'aa', 'cc']\n",
    "N = [1, 2, 3]\n",
    "Z = dict(zip(M, N))"
   ]
  },
  {
   "cell_type": "code",
   "execution_count": 15,
   "metadata": {},
   "outputs": [],
   "source": [
    "D = {'spam': 2, 'eggs': 3}"
   ]
  },
  {
   "cell_type": "code",
   "execution_count": 23,
   "metadata": {},
   "outputs": [
    {
     "data": {
      "text/plain": [
       "{'spam': 2, 'eggs': 3, 'bb': 1, 'aa': 2, 'cc': 3}"
      ]
     },
     "execution_count": 23,
     "metadata": {},
     "output_type": "execute_result"
    }
   ],
   "source": [
    "ZD = {**D, **Z}\n",
    "ZD"
   ]
  },
  {
   "cell_type": "code",
   "execution_count": 27,
   "metadata": {},
   "outputs": [
    {
     "data": {
      "text/plain": [
       "['bb', 'aa', 'cc', 1, 2, 3]"
      ]
     },
     "execution_count": 27,
     "metadata": {},
     "output_type": "execute_result"
    }
   ],
   "source": [
    "mn = [*M, *N]\n",
    "mn"
   ]
  },
  {
   "cell_type": "markdown",
   "metadata": {},
   "source": [
    "#### Tuples \n",
    "This is a Python object that is similar to a list but which cannot be changed in place.\n",
    "\n",
    "- Don't grow and shrink as desired because they are immutable."
   ]
  },
  {
   "cell_type": "code",
   "execution_count": null,
   "metadata": {},
   "outputs": [],
   "source": [
    "T = (1, 2, 3, 4) # A 4-item tuple\n",
    "len(T) # Length\n",
    "4\n",
    "T + (5, 6) # Concatenation\n",
    "(1, 2, 3, 4, 5, 6)\n",
    "T[0] # Indexing, slicing, and more\n",
    "1\n",
    "\n",
    "T.index(4) # Tuple methods: 4 appears at offset 3\n",
    "3\n",
    "T.count(4) # 4 appears once\n",
    "1\n",
    "\n",
    "T[0] = 2 # Tuples are immutable\n",
    "\n",
    "T = ('spam', 3.0, [11, 22, 33])\n",
    "T[1]\n",
    "3.0\n",
    "T[2][1]\n",
    "22\n",
    "T.append(4)\n",
    "AttributeError: 'tuple' object has no attribute 'append'"
   ]
  },
  {
   "cell_type": "markdown",
   "metadata": {},
   "source": [
    "**Assignment:**<br/>\n",
    "Modify your tuckshop program so that you use a list to store your items and prices."
   ]
  },
  {
   "cell_type": "markdown",
   "metadata": {},
   "source": [
    "#### Dictionaries\n",
    "Dictionaries are unordered collection of Python objects. Also known as mappings.\n",
    "\n",
    "- They are ordered by keys.\n",
    "- Every key is assigned a value.\n",
    "- They are mutable.\n",
    "- Can grow and shrink as desired.\n",
    "  \n",
    "  \n",
    "Methods:  \n",
    "- keys\n",
    "- values\n",
    "- keys+values\n",
    "- copies\n",
    "- defaults\n",
    "- merge\n",
    "- delete, etc."
   ]
  },
  {
   "cell_type": "code",
   "execution_count": null,
   "metadata": {},
   "outputs": [],
   "source": [
    "D = {} Empty dictionary  \n",
    "D = {'spam': 2, 'eggs': 3} Two-item dictionary  \n",
    "D = {'food': {'ham': 1, 'egg': 2}} Nesting  \n",
    "D = dict(name='Bob', age=40)  \n",
    "D = dict(zip(keyslist, valslist))  \n",
    "\n",
    "\n",
    "D['eggs']\n",
    "D['food']['ham']\n",
    "\n",
    "D.keys()\n",
    "D.values()\n",
    "D.items()\n",
    "D.copy()\n",
    "D.get(key, default)\n",
    "D.update(D2)\n",
    "D.pop(key)\n",
    "\n",
    "len(D)               #Length: number of stored entries\n",
    "D[key] = 42          #Adding/changing keys\n",
    "del D[key]           #Deleting entries by key\n",
    "list(D.keys())\n",
    "\n",
    "\n",
    "D = {'food': 'Spam', 'quantity': 4, 'color': 'pink'}\n",
    "D['food'] # Fetch value of key 'food'\n",
    "'Spam'\n",
    "D['quantity'] += 1 # Add 1 to 'quantity' value\n",
    "D\n",
    "{'food': 'Spam', 'color': 'pink', 'quantity': 5}\n",
    "D = {}\n",
    "D['name'] = 'Bob' # Create keys by assignment\n",
    "D['job'] = 'dev'\n",
    "D['age'] = 40\n",
    "D\n",
    "{'age': 40, 'job': 'dev', 'name': 'Bob'}\n",
    "print(D['name'])\n",
    "Bob\n",
    "\n",
    "#Nesting\n",
    "rec = {'name': {'first': 'Bob', 'last': 'Smith'},\n",
    "'job': ['dev', 'mgr'],\n",
    "'age': 40.5}\n",
    "\n",
    "rec['name'] # 'name' is a nested dictionary\n",
    "{'last': 'Smith', 'first': 'Bob'}\n",
    "rec['name']['last'] # Index the nested dictionary\n",
    "'Smith'\n",
    "rec['job'] # 'job' is a nested list\n",
    "['dev', 'mgr']\n",
    "rec['job'][-1] # Index the nested list\n",
    "'mgr'\n",
    "rec['job'].append('janitor') # Expand Bob's job description in-place\n",
    "rec\n",
    "{'age': 40.5, 'job':\n",
    "\n",
    "Ks = list(D.keys()) # Unordered keys list\n",
    "Ks # A list in 2.6, \"view\" in 3.0: use list()\n",
    "['a', 'c', 'b']\n",
    "Ks.sort() # Sorted keys list\n",
    "Ks\n",
    "['a', 'b', 'c']\n"
   ]
  },
  {
   "cell_type": "markdown",
   "metadata": {},
   "source": [
    "#### Sets \n",
    "A set is an unordered collection of unique and immutable objects that supports operations corresponding to mathematical set theory (Mark Lutz).\n",
    "\n",
    "- An item appears only once in a set, no matter how many times it is added.\n",
    "- Applied in numeric and database-focused work.\n",
    "- Sets are not sequence nor mapping type and hence they are unordered and do not map keys to values.\n",
    "- Items are stored only once.\n",
    "- Sets are used to filter duplicates out of other collections."
   ]
  },
  {
   "cell_type": "code",
   "execution_count": null,
   "metadata": {},
   "outputs": [],
   "source": [
    "x = set('abcde')\n",
    "y = set('bdxyz')\n",
    "\n",
    "x\n",
    "set(['a', 'c', 'b', 'e', 'd'])\n",
    "\n",
    "'e' in x # Membership\n",
    "True\n",
    "x – y # Difference\n",
    "set(['a', 'c', 'e'])\n",
    "x | y # Union\n",
    "set(['a', 'c', 'b', 'e', 'd', 'y', 'x', 'z'])\n",
    "x & y # Intersection\n",
    "set(['b', 'd'])\n",
    "x ^ y # Symmetric difference (XOR)\n",
    "set(['a', 'c', 'e', 'y', 'x', 'z'])\n",
    "x > y, x < y # Superset, subset\n",
    "(False, False)\n",
    "\n",
    "z = x.intersection(y) # Same as x & y\n",
    "z\n",
    "set(['b', 'd'])\n",
    "z.add('SPAM') # Insert one item\n",
    "z\n",
    "set(['b', 'd', 'SPAM'])\n",
    "z.update(set(['X', 'Y'])) # Merge: in-place union\n",
    "z\n",
    "set(['Y', 'X', 'b', 'd', 'SPAM'])\n",
    "z.remove('b') # Delete one item\n",
    "z\n",
    "set(['Y', 'X', 'd', 'SPAM'])\n",
    "\n",
    "S = set([1, 2, 3])\n",
    "S | set([3, 4]) # Expressions require both to be sets\n",
    "set([1, 2, 3, 4])\n",
    "S | [3, 4]\n",
    "TypeError: unsupported operand type(s) for |: 'set' and 'list'\n",
    "S.union([3, 4]) # But their methods allow any iterable\n",
    "set([1, 2, 3, 4])\n",
    "S.intersection((1, 3, 5))\n",
    "set([1, 3])\n",
    "S.issubset(range(-5, 5))\n",
    "True\n",
    "\n",
    "set([1, 2, 3, 4]) # Built-in: same as in 2.6\n",
    "{1, 2, 3, 4}\n",
    "set('spam') # Add all items in an iterable\n",
    "{'a', 'p', 's', 'm'}\n",
    "{1, 2, 3, 4} # Set literals: new in 3.0\n",
    "{1, 2, 3, 4}\n",
    "S = {'s', 'p', 'a', 'm'}\n",
    "S.add('alot')\n",
    "S\n",
    "{'a', 'p', 's', 'm', 'alot'}\n",
    "\n",
    "S1 = {1, 2, 3, 4}\n",
    "S1 & {1, 3} # Intersection\n",
    "{1, 3}\n",
    "{1, 5, 3, 6} | S1 # Union\n",
    "{1, 2, 3, 4, 5, 6}\n",
    "S1 - {1, 3, 4} # Difference\n",
    "{2}\n",
    "S1 > {1, 3} # Superset\n",
    "True\n",
    "\n",
    "S1 - {1, 2, 3, 4} # Empty sets print differently\n",
    "set()\n",
    "type({}) # Because {} is an empty dictionary\n",
    "<class 'dict'>\n",
    "S = set() # Initialize an empty set\n",
    "S.add(1.23)\n",
    "S\n",
    "{1.23}\n",
    "\n",
    "{1, 2, 3} | {3, 4}\n",
    "{1, 2, 3, 4}\n",
    "{1, 2, 3} | [3, 4]\n",
    "TypeError: unsupported operand type(s) for |: 'set' and 'list'\n",
    "{1, 2, 3}.union([3, 4])\n",
    "{1, 2, 3, 4}\n",
    "{1, 2, 3}.union({3, 4})\n",
    "{1, 2, 3, 4}\n",
    "{1, 2, 3}.union(set([3, 4]))\n",
    "{1, 2, 3, 4}\n",
    "{1, 2, 3}.intersection((1, 3, 5))\n",
    "{1, 3}\n",
    "{1, 2, 3}.issubset(range(-5, 5))\n",
    "True\n",
    "\n",
    "S\n",
    "{1.23}\n",
    "S.add([1, 2, 3]) # Only mutable objects work in a set\n",
    "TypeError: unhashable type: 'list'\n",
    "S.add({'a':1})\n",
    "TypeError: unhashable type: 'dict'\n",
    "S.add((1, 2, 3))\n",
    "S # No list or dict, but tuple okay\n",
    "{1.23, (1, 2, 3)}\n",
    "S | {(4, 5, 6), (1, 2, 3)} # Union: same as S.union(...)\n",
    "{1.23, (4, 5, 6), (1, 2, 3)}\n",
    "(1, 2, 3) in S # Membership: by complete values\n",
    "True\n",
    "(1, 4, 3) in S\n",
    "False\n"
   ]
  },
  {
   "cell_type": "markdown",
   "metadata": {},
   "source": [
    "## Decision making and repetition structures\n",
    "#### If statements"
   ]
  },
  {
   "cell_type": "code",
   "execution_count": null,
   "metadata": {},
   "outputs": [],
   "source": [
    "if <test1>: # if test  \n",
    "    <statements1> # Associated block  \n",
    "elif test2: # Optional elifs  \n",
    "    <statements2>  \n",
    "else: # Optional else  \n",
    "    <statements3>"
   ]
  },
  {
   "cell_type": "code",
   "execution_count": null,
   "metadata": {},
   "outputs": [],
   "source": [
    "if 1:\n",
    "print('true')"
   ]
  },
  {
   "cell_type": "markdown",
   "metadata": {},
   "source": [
    "**Basic if statement with a false result**"
   ]
  },
  {
   "cell_type": "code",
   "execution_count": null,
   "metadata": {},
   "outputs": [],
   "source": [
    "if not 1:\n",
    "    print('true')\n",
    "else:\n",
    "    print('false')"
   ]
  },
  {
   "cell_type": "markdown",
   "metadata": {},
   "source": [
    "**Multiple Branching**"
   ]
  },
  {
   "cell_type": "code",
   "execution_count": null,
   "metadata": {},
   "outputs": [],
   "source": [
    "x = 'killer rabbit'\n",
    "if x == 'roger':\n",
    "    print(\"how's jessica?\")\n",
    "elif x == 'bugs':\n",
    "    print(\"what's up doc?\")\n",
    "else:\n",
    "    print('Run away! Run away!')"
   ]
  },
  {
   "cell_type": "code",
   "execution_count": null,
   "metadata": {},
   "outputs": [],
   "source": [
    "if choice == 'spam':\n",
    "    print(1.25)\n",
    "elif choice == 'ham':\n",
    "    print(1.99)\n",
    "elif choice == 'eggs':\n",
    "    print(0.99)\n",
    "elif choice == 'bacon':\n",
    "    print(1.10)\n",
    "else:\n",
    "    print('Bad choice')"
   ]
  },
  {
   "cell_type": "code",
   "execution_count": null,
   "metadata": {},
   "outputs": [],
   "source": [
    "choice = 'ham'\n",
    "print({'spam': 1.25, # A dictionary-based 'switch'\n",
    "       'ham': 1.99, # Use has_key or get for default\n",
    "       'eggs': 0.99,\n",
    "       'bacon': 1.10}[choice])"
   ]
  },
  {
   "cell_type": "markdown",
   "metadata": {},
   "source": [
    "#### Loops \n",
    "Python has two types of loops: while loop and the for loop.  \n",
    "\n",
    "Generally, loops are used when we know how many times a set of instructions is being repeated. The while loop is used when the number of times that will be repeated is not known.  \n",
    "\n",
    "A while loop executes a set of instructions repeatedly for as long as the test statement is true."
   ]
  },
  {
   "cell_type": "code",
   "execution_count": null,
   "metadata": {},
   "outputs": [],
   "source": [
    "while <test>: # Loop test\n",
    "<statements1> # Loop body\n",
    "else: # Optional else\n",
    "<statements2> # Run if didn't exit loop with break"
   ]
  },
  {
   "cell_type": "code",
   "execution_count": null,
   "metadata": {},
   "outputs": [],
   "source": [
    "x = 'spam'\n",
    "while x: # While x is not empty\n",
    "    print(x, end=' ')\n",
    "    x = x[1:] # Strip first character off x"
   ]
  },
  {
   "cell_type": "markdown",
   "metadata": {},
   "source": [
    "Note the end=' ' keyword argument used here to place all outputs on the same line\n",
    "separated by a space."
   ]
  },
  {
   "cell_type": "code",
   "execution_count": null,
   "metadata": {},
   "outputs": [],
   "source": [
    "a=0; b=10\n",
    "while a < b: # One way to code counter loops\n",
    "    print(a, end=' ')\n",
    "    a += 1 # Or, a = a + 1"
   ]
  },
  {
   "cell_type": "markdown",
   "metadata": {},
   "source": [
    "**break**\n",
    "Jumps out of the closest enclosing loop (past the entire loop statement)\n",
    "\n",
    "**continue**\n",
    "Jumps to the top of the closest enclosing loop (to the loop’s header line)\n",
    "\n",
    "**pass**\n",
    "Does nothing at all: it’s an empty statement placeholder\n",
    "\n",
    "**Loop else block**\n",
    "Runs if and only if the loop is exited normally (i.e., without hitting a break)"
   ]
  },
  {
   "cell_type": "code",
   "execution_count": null,
   "metadata": {},
   "outputs": [],
   "source": [
    "while True:\n",
    "    name = input('Enter name:')\n",
    "    if name == 'stop': break\n",
    "        age = input('Enter age: ')\n",
    "        print('Hello', name, '=>', int(age) ** 2)"
   ]
  },
  {
   "cell_type": "markdown",
   "metadata": {},
   "source": [
    "**Loop else**\n",
    "When combined with the loop else clause, the break statement can often eliminate the\n",
    "need for the search status flags used in other languages.  \n",
    "For 000instance, the following piece of code determines whether a positive integer y is prime by searching for factors\n",
    "greater than 1:"
   ]
  },
  {
   "cell_type": "code",
   "execution_count": null,
   "metadata": {},
   "outputs": [],
   "source": [
    "x = y // 2 # For some y > 1\n",
    "while x > 1:\n",
    "    if y % x == 0: # Remainder\n",
    "        print(y, 'has factor', x)\n",
    "        break # Skip else\n",
    "    x -= 1\n",
    "else: # Normal exit\n",
    "    print(y, 'is prime')"
   ]
  },
  {
   "cell_type": "code",
   "execution_count": null,
   "metadata": {},
   "outputs": [],
   "source": [
    "found = False\n",
    "while x and not found:\n",
    "    if match(x[0]): # Value at front?\n",
    "        print('Ni')\n",
    "        found = True\n",
    "    else:\n",
    "        x = x[1:] # Slice off front and repeat\n",
    "if not found:\n",
    "    print('not found')"
   ]
  },
  {
   "cell_type": "markdown",
   "metadata": {},
   "source": [
    "#### for loops\n",
    "\n",
    "A for loop steps iterates through"
   ]
  },
  {
   "cell_type": "code",
   "execution_count": null,
   "metadata": {},
   "outputs": [],
   "source": [
    "for <target> in <object>: # Assign object items to target\n",
    "<statements> # Repeated loop body: use target\n",
    "else:\n",
    "<statements> # If we didn't hit a 'break'"
   ]
  },
  {
   "cell_type": "markdown",
   "metadata": {},
   "source": [
    "Every item in 'object' is assigned to target."
   ]
  },
  {
   "cell_type": "code",
   "execution_count": null,
   "metadata": {},
   "outputs": [],
   "source": [
    "for x in [\"spam\", \"eggs\", \"ham\"]:\n",
    "    print(x, end=' ')"
   ]
  },
  {
   "cell_type": "code",
   "execution_count": null,
   "metadata": {},
   "outputs": [],
   "source": [
    "sum = 0\n",
    "for x in [1, 2, 3, 4]:\n",
    "    sum = sum + x\n",
    "\n",
    "prod = 1\n",
    "for item in [1, 2, 3, 4]: prod *= item"
   ]
  },
  {
   "cell_type": "code",
   "execution_count": null,
   "metadata": {},
   "outputs": [],
   "source": [
    "T = [(1, 2), (3, 4), (5, 6)]\n",
    "for (a, b) in T: # Tuple assignment at work\n",
    "    print(a, b)"
   ]
  },
  {
   "cell_type": "code",
   "execution_count": null,
   "metadata": {},
   "outputs": [],
   "source": [
    "D = {'a': 1, 'b': 2, 'c': 3}\n",
    "for key in D:\n",
    "    print(key, '=>', D[key]) # Use dict keys iterator and index\n",
    "\n",
    "a => 1\n",
    "c => 3\n",
    "b => 2\n",
    "\n",
    "list(D.items())\n",
    "\n",
    "for (key, value) in D.items():\n",
    "    print(key, '=>', value) # Iterate over both keys and values\n",
    "\n",
    "a => 1\n",
    "c => 3\n",
    "b => 2"
   ]
  },
  {
   "cell_type": "code",
   "execution_count": null,
   "metadata": {},
   "outputs": [],
   "source": [
    "T = [(1, 2), (3, 4), (5, 6)]\n",
    "for both in T:\n",
    "    a, b = both # Manual assignment equivalent\n",
    "    print(a, b)"
   ]
  },
  {
   "cell_type": "code",
   "execution_count": null,
   "metadata": {},
   "outputs": [],
   "source": [
    "#Nested for loops\n",
    "\n",
    "items = [\"aaa\", 111, (4, 5), 2.01] # A set of objects\n",
    "tests = [(4, 5), 3.14] # Keys to search for\n",
    "\n",
    "for key in tests: # For all keys\n",
    "    for item in items: # For all items\n",
    "        if item == key: # Check for match\n",
    "            print(key, \"was found\")\n",
    "            break\n",
    "    else:\n",
    "        print(key, \"not found!\")"
   ]
  },
  {
   "cell_type": "code",
   "execution_count": null,
   "metadata": {},
   "outputs": [],
   "source": [
    "for key in tests: # For all keys\n",
    "    if key in items: # Let Python check for a match\n",
    "        print(key, \"was found\")\n",
    "    else:\n",
    "        print(key, \"not found!\")"
   ]
  },
  {
   "cell_type": "code",
   "execution_count": null,
   "metadata": {},
   "outputs": [],
   "source": [
    "seq1 = \"spam\"\n",
    "seq2 = \"scam\"\n",
    "\n",
    "res = [] # Start empty\n",
    "for x in seq1: # Scan first sequence\n",
    "    if x in seq2: # Common item?\n",
    "        res.append(x) # Add to result end"
   ]
  },
  {
   "cell_type": "markdown",
   "metadata": {},
   "source": [
    "#### Files\n",
    "Files are Python objects that are used to store or access information stored externally on your computer."
   ]
  },
  {
   "cell_type": "code",
   "execution_count": null,
   "metadata": {},
   "outputs": [],
   "source": [
    "f = open('data.txt', 'w') # Make a new file in output mode\n",
    "f.write('Hello') # Write strings of bytes to it\n",
    "\n",
    "f.write('world') # Returns number of bytes written in Python 3.0\n",
    "\n",
    "f.close()\n"
   ]
  },
  {
   "cell_type": "code",
   "execution_count": null,
   "metadata": {},
   "outputs": [],
   "source": [
    "f = open('data.txt') # 'r' is the default processing mode\n",
    "text = f.read() # Read entire file into a string\n",
    "text\n",
    "print(text) # print interprets control characters\n",
    "Hello\n",
    "world\n",
    "text.split() # File content is always a string\n",
    "['Hello', 'world']"
   ]
  },
  {
   "cell_type": "code",
   "execution_count": null,
   "metadata": {},
   "outputs": [],
   "source": [
    "myfile = open('myfile.txt', 'w') # Open for text output: create/empty\n",
    "myfile.write('hello text file\\n') # Write a line of text: string\n",
    "\n",
    "myfile.write('goodbye text file\\n')\n",
    "\n",
    "myfile.close() # Flush output buffers to disk\n",
    "myfile = open('myfile.txt') # Open for text input: 'r' is default\n",
    "myfile.readline() # Read the lines back\n",
    "myfile.readline()\n",
    "myfile.readline() # Empty string: end of file"
   ]
  },
  {
   "cell_type": "code",
   "execution_count": null,
   "metadata": {},
   "outputs": [],
   "source": [
    "open('myfile.txt').read() # Read all at once into string\n",
    "print(open('myfile.txt').read()) # User-friendly display"
   ]
  },
  {
   "cell_type": "code",
   "execution_count": null,
   "metadata": {},
   "outputs": [],
   "source": [
    "for line in open('myfile'): # Use file iterators, not reads\n",
    "    print(line, end='')"
   ]
  },
  {
   "cell_type": "code",
   "execution_count": null,
   "metadata": {},
   "outputs": [],
   "source": [
    "line = F.readline() # Next line from file\n",
    "line # It's a string here\n",
    "parts = line.split(',') # Split (parse) on commas\n",
    "parts\n"
   ]
  },
  {
   "cell_type": "markdown",
   "metadata": {},
   "source": [
    "#### Common file operations\n",
    "\n",
    "- output = open(r'C:\\spam', 'w') Create output file ('w' means write)\n",
    "- input = open('data', 'r') Create input file ('r' means read)\n",
    "- input = open('data') Same as prior line ('r' is the default)\n",
    "- aString = input.read() Read entire file into a single string\n",
    "- aString = input.read(N) Read up to next N characters (or bytes) into a string\n",
    "- aString = input.readline() Read next line (including \\n newline) into a string\n",
    "- aList = input.readlines() Read entire file into list of line strings (with \\n)\n",
    "- output.write(aString) Write a string of characters (or bytes) into file\n",
    "- output.writelines(aList) Write all line strings in a list into file\n",
    "- output.close() Manual close (done for you when file is collected)\n",
    "- output.flush() Flush output buffer to disk without closing\n",
    "- anyFile.seek(N) Change file position to offset N for next operation\n",
    "- for line in open('data'): use line File iterators read line by line\n",
    "- open('f.txt', encoding='latin-1') Python 3.0 Unicode text files (str strings)\n",
    "- open('f.bin', 'rb') Python 3.0 binary bytes files (bytes strings)"
   ]
  },
  {
   "cell_type": "markdown",
   "metadata": {},
   "source": [
    "### Functions\n",
    "\n",
    "A function is a tool that groups a set of statements so that they can be run more than once in a program.\n",
    "\n",
    "Functions maximises code reuse and minimizing code redundancy.\n",
    "\n",
    "###### Why use functions?\n",
    "- `Maximizing code reuse and minimizing redundancy.`\n",
    "-  `Procedural decomposition.`\n",
    "\n"
   ]
  },
  {
   "cell_type": "markdown",
   "metadata": {},
   "source": [
    "\n",
    "We will be looking at two different types of functions:\n",
    "> Build-in functions <br>\n",
    "> User defined functions\n"
   ]
  },
  {
   "cell_type": "markdown",
   "metadata": {},
   "source": [
    "#### Built-in functions\n",
    "\n",
    "`\n",
    "print()\n",
    "int()\n",
    "range()\n",
    "len()\n",
    "pow()\n",
    "dir()\n",
    "min()\n",
    "type()\n",
    "upper()\n",
    "round()\n",
    "help()\n",
    "`"
   ]
  },
  {
   "cell_type": "code",
   "execution_count": null,
   "metadata": {},
   "outputs": [],
   "source": []
  },
  {
   "cell_type": "markdown",
   "metadata": {},
   "source": [
    "#### General format\n",
    "\n",
    "We use the keyword `def` to create a function. `def` creates a new function object and assigns it to a name.\n",
    "~~~ \n",
    "def <name>(arg1, arg2,... argN):\n",
    "    <statements> \n",
    "~~~"
   ]
  },
  {
   "cell_type": "markdown",
   "metadata": {},
   "source": [
    "#### Example: \n",
    "__`Create a function that will perform the multiplication operation of the calculator.`__"
   ]
  },
  {
   "cell_type": "code",
   "execution_count": null,
   "metadata": {},
   "outputs": [],
   "source": [
    "def times(x, y): # Create and assign function\n",
    "    return x * y # Body executed when called\n",
    "\n",
    "#call statement\n",
    "times(2, 4)\n",
    "x = times(3.14, 4) # Save the result object\n",
    "times('Ni', 4)"
   ]
  },
  {
   "cell_type": "markdown",
   "metadata": {},
   "source": [
    "#### Example: \n",
    "__`Create a function that will take two lists and find the elements are are common (intersection) in both lists and print them out.`__"
   ]
  },
  {
   "cell_type": "code",
   "execution_count": null,
   "metadata": {},
   "outputs": [],
   "source": [
    "def intersect(seq1, seq2):\n",
    "    res = [] # Start empty\n",
    "    for x in seq1: # Scan seq1\n",
    "        if x in seq2: # Common item?\n",
    "            res.append(x) # Add to end\n",
    "    return res"
   ]
  },
  {
   "cell_type": "markdown",
   "metadata": {},
   "source": [
    "### Variable Scopes\n",
    "\n",
    "__Local Variables__ <br>\n",
    "_When a variable is local, it is only visble to code inside a function `def` and it exists only while the function runs._\n",
    "\n",
    "- Local variables appear when the function is called and disappear when the function exits.\n",
    "- Names assigned inside a `def` can only be seen by the code within that `def`. You cannot even refer to such names from outside the function.\n",
    "- Names assigned inside a `def` do not clash with variables outside the `def`, even if the same names are used elsewhere.\n",
    "- If a variable is assigned inside a `def`, it is local to that function.\n",
    "- If a variable is assigned in an enclosing `def`, it is nonlocal to nested functions.\n",
    "- If a variable is assigned outside all `def`s, it is global to the entire program.\n",
    "\n",
    "\n",
    "__Global Variables__ <br>\n",
    "_When a variable is global, it is visible the entire program._\n",
    "\n",
    "- The enclosing module is a global scope.\n",
    "- The global scope spans a single file only.\n",
    "- Assigned names are local unless declared global or nonlocal.\n"
   ]
  },
  {
   "cell_type": "code",
   "execution_count": null,
   "metadata": {},
   "outputs": [],
   "source": []
  },
  {
   "cell_type": "markdown",
   "metadata": {},
   "source": [
    "### Arguments\n",
    "Arguments are passed to the function through the function header during declaration.\n",
    "\n",
    "> __`func(value)`__` - normal argument matched by position.` <br>\n",
    "> __`func(name=value)`__` - keyword argument matched by name.` <br>\n",
    "> __`func(*value)`__` - pass all objects in iterable as individual positional arguments.` <br>\n",
    "> __`func(**value)`__` - pass all key/value pairs in dict as individual keyword arguments.` <br>\n",
    "> __`func(*args)`__` - collects all the positional arguments into a new tuple and assigns the variable args to that tuple.` <br>\n",
    "> __`func(**kargs)`__` - collects keyword arguments into a new dictionary, which can then be processed with normal dictionary tools.`"
   ]
  },
  {
   "cell_type": "code",
   "execution_count": null,
   "metadata": {},
   "outputs": [],
   "source": []
  },
  {
   "cell_type": "markdown",
   "metadata": {},
   "source": [
    "#### Exercises: \n",
    "1. Write a function to find the maximum of three numbers given by the user.\n",
    "1. Write a function that takes a list and returns a new list with unique elements of the first list.\n",
    "1. Write two functions, one to sum all the numbers in a list and the other to multiply all the numbers in a list.\n",
    "1. Write a program to reverse a string.\n",
    "1. Write a function that accepts a string and calculate the number of uppercase letters and lower case letters.\n",
    "1. Write a function to create and print a list where the values are square of numbers between 1 and 30 (both included).\n",
    "1. Making use of functions, write a program that reads an integer from the user. Then your program should display a message indicating whether the integer is even or odd.\n",
    "1. Create a program that reads a letter of the alphabet from the user. If the user enters a, e, i, o or u then your program should display a message indicating that the entered letter is a vowel. If the user enters y then your program should display a message indicating that sometimes y is a vowel, and sometimes y is a consonant. Otherwise your program should display a message indicating that the letter is a consonant.\n",
    "1. Write a program that determines the name of a shape from its number of sides. Read the number of sides from the user and then report the appropriate name as part of a meaningful message. Your program should support shapes with anywhere from 3 up to (and including) 10 sides. If a number of sides outside of this range is entered then your program should display an appropriate error message.\n",
    "1. The length of a month varies from 28 to 31 days. In this exercise you will create a program that reads the name of a month from the user as a string. Then your program should display the number of days in that month. Display \"28 or 29 days\" for February so that leap years are addressed.\n"
   ]
  },
  {
   "cell_type": "markdown",
   "metadata": {},
   "source": [
    "## Git and GitHub Commands\n",
    "\n",
    "__`Setting up Git`__"
   ]
  },
  {
   "cell_type": "code",
   "execution_count": null,
   "metadata": {},
   "outputs": [],
   "source": [
    "git config --global user.name \"Aron Moon\"\n",
    "git config --global user.email \"amoon@email.com\""
   ]
  },
  {
   "cell_type": "markdown",
   "metadata": {},
   "source": [
    "__`Creating a repository`__"
   ]
  },
  {
   "cell_type": "code",
   "execution_count": null,
   "metadata": {},
   "outputs": [],
   "source": [
    "#create repo\n",
    "cd ~/Desktop\n",
    "mkdir pythonweek\n",
    "cd python week\n",
    "\n",
    "#initialize repo\n",
    "git init\n",
    "ls\n",
    "ls -a\n",
    "\n",
    "#change name of branch from master to main \n",
    "git checkout -b main\n",
    "git status"
   ]
  },
  {
   "cell_type": "markdown",
   "metadata": {},
   "source": [
    "__`Tracking Changes`__"
   ]
  },
  {
   "cell_type": "code",
   "execution_count": null,
   "metadata": {},
   "outputs": [],
   "source": [
    "#creating a file\n",
    "nano test.txt\n",
    "ls\n",
    "cat test.txt\n",
    "git status\n",
    "git add test.txt\n",
    "git status\n",
    "git commit -m \"start questions on exercises\"\n",
    "git log\n",
    "\n",
    "#add changes to the file\n",
    "nano test.txt\n",
    "cat test.txt\n",
    "git status\n",
    "git diff\n",
    "git add test.txt\n",
    "git commit -m \"add more exercises\"\n",
    "git log"
   ]
  },
  {
   "cell_type": "markdown",
   "metadata": {},
   "source": [
    "__`Exploring History`__"
   ]
  },
  {
   "cell_type": "code",
   "execution_count": null,
   "metadata": {},
   "outputs": [],
   "source": [
    "nano test.txt\n",
    "cat test.txt\n",
    "git diff HEAD test.txt\n",
    "git diff HEAD~1 test.txt\n",
    "git show HEAD test.txt\n",
    "\n",
    "#delete uncommitted changes to file\n",
    "git status\n",
    "git checkout HEAD test.txt\n",
    "cat test.txt\n",
    "\n",
    "#delete commit\n",
    "git log \n",
    "git revert commitID"
   ]
  },
  {
   "cell_type": "markdown",
   "metadata": {},
   "source": [
    "__`Ignoring files and folders`__"
   ]
  },
  {
   "cell_type": "code",
   "execution_count": null,
   "metadata": {},
   "outputs": [],
   "source": [
    "mkdir results\n",
    "touch x.dat y.dat z.dat results/x.out results/y.out\n",
    "git status\n",
    "nano .gitignore\n",
    "#enter the following text in the file\n",
    "#*.dat\n",
    "#results/\n",
    "\n",
    "git status\n",
    "git add .gitignore\n",
    "git commit -m \"Ignore data files and the results folder\"\n",
    "git status"
   ]
  },
  {
   "cell_type": "markdown",
   "metadata": {},
   "source": [
    "__`Remote Connection to GitHub`__"
   ]
  },
  {
   "cell_type": "code",
   "execution_count": null,
   "metadata": {},
   "outputs": [],
   "source": [
    "- Login to GitHub.\n",
    "- Create a new repository called pythonweek.\n",
    "- The repository should be empty. No README, no gitignore, no licence.\n",
    "- Copy the cloning address of the repo that you just created.\n",
    "\n",
    "#connect both repos \n",
    "git remote add origin git@github.com:aron/pythonweek.git\n",
    "git remote -v #check if command worked\n",
    "\n",
    "#setting up ssh\n",
    "ls -al ~/.ssh   #check what key pairs already exist on the computer\n",
    "ssh-keygen -t ed25519 -c \"amoon@email.com\"  #create ssh key\n",
    "\n",
    "#find ssh files\n",
    "ls -al ~/.ssh\n",
    "\n",
    "#check if GitHub can read the authentication\n",
    "ss -T git@github.com\n",
    "cat ~/.ssh/id_ed25519.pub #copy public key for GitHub\n",
    "\n",
    "#GitHub Setup\n",
    "- go to settings\n",
    "- SSH and GPG keys\n",
    "- Account settings\n",
    "- New SSH key\n",
    "- add title\n",
    "- paste SSH key\n",
    "- Add SSH key\n",
    "\n",
    "#git bash\n",
    "ssh -T git@github.com\n",
    "\n",
    "#push local changes to a remote repo\n",
    "git push origin main\n",
    "\n",
    "#if you want to pull changes from a remote repo, the command below is the one to use\n",
    "git pull origin main"
   ]
  },
  {
   "cell_type": "markdown",
   "metadata": {},
   "source": [
    "__`Collaborating with others`__"
   ]
  },
  {
   "cell_type": "code",
   "execution_count": null,
   "metadata": {},
   "outputs": [],
   "source": [
    "#Give your collaborator access\n",
    "- settings of the repository\n",
    "- manage access\n",
    "- invite a collaborator\n",
    "- enter username\n",
    "- the collaborator should accept invitation and download a copy of the repo (called cloning a repo)\n",
    "\n",
    "#clone owner's repo to Desktop\n",
    "cd Desktop\n",
    "git clone https://github.com/amoon/pythonweek.git\n",
    "cd pythonweek\n",
    "\n",
    "- Create a file new file of your choice and add text or edit any of the existing files in the folder and push those changes to GitHub.\n",
    "\n",
    "nano assignment1.txt #add assignment 1 solutions\n",
    "git status\n",
    "git add assignment1.txt\n",
    "git commit -m \"Add solutions to assignment 1\"\n",
    "git push origin main"
   ]
  }
 ],
 "metadata": {
  "kernelspec": {
   "display_name": "Python 3",
   "language": "python",
   "name": "python3"
  },
  "language_info": {
   "codemirror_mode": {
    "name": "ipython",
    "version": 3
   },
   "file_extension": ".py",
   "mimetype": "text/x-python",
   "name": "python",
   "nbconvert_exporter": "python",
   "pygments_lexer": "ipython3",
   "version": "3.7.0"
  }
 },
 "nbformat": 4,
 "nbformat_minor": 2
}
